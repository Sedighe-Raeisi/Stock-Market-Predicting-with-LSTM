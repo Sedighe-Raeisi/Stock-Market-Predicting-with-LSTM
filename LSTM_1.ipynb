{
  "nbformat": 4,
  "nbformat_minor": 0,
  "metadata": {
    "colab": {
      "name": "LSTM_1.ipynb",
      "provenance": [],
      "collapsed_sections": [],
      "mount_file_id": "1ZqvNH8S3vLKBTnRirGzpfq9RbuKc7tu0",
      "authorship_tag": "ABX9TyOFw526thvOQH9EWMG+uh1e",
      "include_colab_link": true
    },
    "kernelspec": {
      "name": "python3",
      "display_name": "Python 3"
    },
    "language_info": {
      "name": "python"
    }
  },
  "cells": [
    {
      "cell_type": "markdown",
      "metadata": {
        "id": "view-in-github",
        "colab_type": "text"
      },
      "source": [
        "<a href=\"https://colab.research.google.com/github/Sedighe-Raeisi/Stock-Market-Predicting-with-LSTM/blob/main/LSTM_1.ipynb\" target=\"_parent\"><img src=\"https://colab.research.google.com/assets/colab-badge.svg\" alt=\"Open In Colab\"/></a>"
      ]
    },
    {
      "cell_type": "code",
      "metadata": {
        "id": "mPjFE9nMMtO5"
      },
      "source": [
        "import pandas as pd\n",
        "import numpy as np\n",
        "import matplotlib.pyplot as plt"
      ],
      "execution_count": 1,
      "outputs": []
    },
    {
      "cell_type": "markdown",
      "metadata": {
        "id": "WUvy7Ua-NBJF"
      },
      "source": [
        "#Data:\n",
        "link: https://www.kaggle.com/mohamedbakrey/eda-for-microsoft-stock-data-using-ml-algo-acc100/data\n"
      ]
    },
    {
      "cell_type": "code",
      "metadata": {
        "id": "RAO4FGYsM81s"
      },
      "source": [
        "df=pd.read_csv('/content/drive/MyDrive/MachineLearning/RNN_Proj/MSFT.csv')"
      ],
      "execution_count": 2,
      "outputs": []
    },
    {
      "cell_type": "code",
      "metadata": {
        "colab": {
          "base_uri": "https://localhost:8080/",
          "height": 206
        },
        "id": "HxKuQmnKPNj3",
        "outputId": "21f29892-1ee8-485f-db20-055363bf8f1f"
      },
      "source": [
        "df.head()"
      ],
      "execution_count": 3,
      "outputs": [
        {
          "output_type": "execute_result",
          "data": {
            "text/html": [
              "<div>\n",
              "<style scoped>\n",
              "    .dataframe tbody tr th:only-of-type {\n",
              "        vertical-align: middle;\n",
              "    }\n",
              "\n",
              "    .dataframe tbody tr th {\n",
              "        vertical-align: top;\n",
              "    }\n",
              "\n",
              "    .dataframe thead th {\n",
              "        text-align: right;\n",
              "    }\n",
              "</style>\n",
              "<table border=\"1\" class=\"dataframe\">\n",
              "  <thead>\n",
              "    <tr style=\"text-align: right;\">\n",
              "      <th></th>\n",
              "      <th>Date</th>\n",
              "      <th>Open</th>\n",
              "      <th>High</th>\n",
              "      <th>Low</th>\n",
              "      <th>Close</th>\n",
              "      <th>Adj Close</th>\n",
              "      <th>Volume</th>\n",
              "    </tr>\n",
              "  </thead>\n",
              "  <tbody>\n",
              "    <tr>\n",
              "      <th>0</th>\n",
              "      <td>1986-03-13</td>\n",
              "      <td>0.088542</td>\n",
              "      <td>0.101563</td>\n",
              "      <td>0.088542</td>\n",
              "      <td>0.097222</td>\n",
              "      <td>0.061608</td>\n",
              "      <td>1031788800</td>\n",
              "    </tr>\n",
              "    <tr>\n",
              "      <th>1</th>\n",
              "      <td>1986-03-14</td>\n",
              "      <td>0.097222</td>\n",
              "      <td>0.102431</td>\n",
              "      <td>0.097222</td>\n",
              "      <td>0.100694</td>\n",
              "      <td>0.063809</td>\n",
              "      <td>308160000</td>\n",
              "    </tr>\n",
              "    <tr>\n",
              "      <th>2</th>\n",
              "      <td>1986-03-17</td>\n",
              "      <td>0.100694</td>\n",
              "      <td>0.103299</td>\n",
              "      <td>0.100694</td>\n",
              "      <td>0.102431</td>\n",
              "      <td>0.064909</td>\n",
              "      <td>133171200</td>\n",
              "    </tr>\n",
              "    <tr>\n",
              "      <th>3</th>\n",
              "      <td>1986-03-18</td>\n",
              "      <td>0.102431</td>\n",
              "      <td>0.103299</td>\n",
              "      <td>0.098958</td>\n",
              "      <td>0.099826</td>\n",
              "      <td>0.063258</td>\n",
              "      <td>67766400</td>\n",
              "    </tr>\n",
              "    <tr>\n",
              "      <th>4</th>\n",
              "      <td>1986-03-19</td>\n",
              "      <td>0.099826</td>\n",
              "      <td>0.100694</td>\n",
              "      <td>0.097222</td>\n",
              "      <td>0.098090</td>\n",
              "      <td>0.062158</td>\n",
              "      <td>47894400</td>\n",
              "    </tr>\n",
              "  </tbody>\n",
              "</table>\n",
              "</div>"
            ],
            "text/plain": [
              "         Date      Open      High       Low     Close  Adj Close      Volume\n",
              "0  1986-03-13  0.088542  0.101563  0.088542  0.097222   0.061608  1031788800\n",
              "1  1986-03-14  0.097222  0.102431  0.097222  0.100694   0.063809   308160000\n",
              "2  1986-03-17  0.100694  0.103299  0.100694  0.102431   0.064909   133171200\n",
              "3  1986-03-18  0.102431  0.103299  0.098958  0.099826   0.063258    67766400\n",
              "4  1986-03-19  0.099826  0.100694  0.097222  0.098090   0.062158    47894400"
            ]
          },
          "metadata": {},
          "execution_count": 3
        }
      ]
    },
    {
      "cell_type": "code",
      "metadata": {
        "colab": {
          "base_uri": "https://localhost:8080/"
        },
        "id": "bsRq4zynNzkV",
        "outputId": "e37f7f92-0a28-495d-8025-d79edc519701"
      },
      "source": [
        "df.info()"
      ],
      "execution_count": null,
      "outputs": [
        {
          "output_type": "stream",
          "name": "stdout",
          "text": [
            "<class 'pandas.core.frame.DataFrame'>\n",
            "RangeIndex: 8929 entries, 0 to 8928\n",
            "Data columns (total 7 columns):\n",
            " #   Column     Non-Null Count  Dtype  \n",
            "---  ------     --------------  -----  \n",
            " 0   Date       8929 non-null   object \n",
            " 1   Open       8929 non-null   float64\n",
            " 2   High       8929 non-null   float64\n",
            " 3   Low        8929 non-null   float64\n",
            " 4   Close      8929 non-null   float64\n",
            " 5   Adj Close  8929 non-null   float64\n",
            " 6   Volume     8929 non-null   int64  \n",
            "dtypes: float64(5), int64(1), object(1)\n",
            "memory usage: 488.4+ KB\n"
          ]
        }
      ]
    },
    {
      "cell_type": "code",
      "source": [
        "df.drop(columns=['Date','Adj Close','Volume']).plot(kind='line',alpha=.5,subplots=True,figsize=(12,12),xlabel='Time',layout=(2,2),sharey=True);"
      ],
      "metadata": {
        "colab": {
          "base_uri": "https://localhost:8080/",
          "height": 661
        },
        "id": "MTplBSUIqAPp",
        "outputId": "66e5436e-4b67-4902-cacc-51dfac02872f"
      },
      "execution_count": 20,
      "outputs": [
        {
          "output_type": "display_data",
          "data": {
            "image/png": "[encoded data removed]",
            "text/plain": [
              "<Figure size 864x864 with 4 Axes>"
            ]
          },
          "metadata": {
            "needs_background": "light"
          }
        }
      ]
    },
    {
      "cell_type": "code",
      "metadata": {
        "colab": {
          "base_uri": "https://localhost:8080/"
        },
        "id": "DmBhdvkZN4Kp",
        "outputId": "ae6d2366-4369-4790-9d0b-4ec864c9becc"
      },
      "source": [
        "df.isnull().sum()"
      ],
      "execution_count": null,
      "outputs": [
        {
          "output_type": "execute_result",
          "data": {
            "text/plain": [
              "Date         0\n",
              "Open         0\n",
              "High         0\n",
              "Low          0\n",
              "Close        0\n",
              "Adj Close    0\n",
              "Volume       0\n",
              "dtype: int64"
            ]
          },
          "metadata": {},
          "execution_count": 6
        }
      ]
    },
    {
      "cell_type": "code",
      "metadata": {
        "colab": {
          "base_uri": "https://localhost:8080/",
          "height": 300
        },
        "id": "8vtV-9xnPWaJ",
        "outputId": "20a66745-a2ef-400c-c49b-df58e1cb603a"
      },
      "source": [
        "df.describe()"
      ],
      "execution_count": 23,
      "outputs": [
        {
          "output_type": "execute_result",
          "data": {
            "text/html": [
              "<div>\n",
              "<style scoped>\n",
              "    .dataframe tbody tr th:only-of-type {\n",
              "        vertical-align: middle;\n",
              "    }\n",
              "\n",
              "    .dataframe tbody tr th {\n",
              "        vertical-align: top;\n",
              "    }\n",
              "\n",
              "    .dataframe thead th {\n",
              "        text-align: right;\n",
              "    }\n",
              "</style>\n",
              "<table border=\"1\" class=\"dataframe\">\n",
              "  <thead>\n",
              "    <tr style=\"text-align: right;\">\n",
              "      <th></th>\n",
              "      <th>Open</th>\n",
              "      <th>High</th>\n",
              "      <th>Low</th>\n",
              "      <th>Close</th>\n",
              "      <th>Adj Close</th>\n",
              "      <th>Volume</th>\n",
              "    </tr>\n",
              "  </thead>\n",
              "  <tbody>\n",
              "    <tr>\n",
              "      <th>count</th>\n",
              "      <td>8929.000000</td>\n",
              "      <td>8929.000000</td>\n",
              "      <td>8929.000000</td>\n",
              "      <td>8929.000000</td>\n",
              "      <td>8929.000000</td>\n",
              "      <td>8.929000e+03</td>\n",
              "    </tr>\n",
              "    <tr>\n",
              "      <th>mean</th>\n",
              "      <td>36.696204</td>\n",
              "      <td>37.086905</td>\n",
              "      <td>36.303615</td>\n",
              "      <td>36.708883</td>\n",
              "      <td>31.725479</td>\n",
              "      <td>5.924097e+07</td>\n",
              "    </tr>\n",
              "    <tr>\n",
              "      <th>std</th>\n",
              "      <td>48.535537</td>\n",
              "      <td>49.003019</td>\n",
              "      <td>48.067117</td>\n",
              "      <td>48.569096</td>\n",
              "      <td>48.770407</td>\n",
              "      <td>3.856559e+07</td>\n",
              "    </tr>\n",
              "    <tr>\n",
              "      <th>min</th>\n",
              "      <td>0.088542</td>\n",
              "      <td>0.092014</td>\n",
              "      <td>0.088542</td>\n",
              "      <td>0.090278</td>\n",
              "      <td>0.057208</td>\n",
              "      <td>2.304000e+06</td>\n",
              "    </tr>\n",
              "    <tr>\n",
              "      <th>25%</th>\n",
              "      <td>3.906250</td>\n",
              "      <td>3.953125</td>\n",
              "      <td>3.859375</td>\n",
              "      <td>3.910156</td>\n",
              "      <td>2.477817</td>\n",
              "      <td>3.526450e+07</td>\n",
              "    </tr>\n",
              "    <tr>\n",
              "      <th>50%</th>\n",
              "      <td>26.680000</td>\n",
              "      <td>26.950001</td>\n",
              "      <td>26.375000</td>\n",
              "      <td>26.660000</td>\n",
              "      <td>18.773018</td>\n",
              "      <td>5.248800e+07</td>\n",
              "    </tr>\n",
              "    <tr>\n",
              "      <th>75%</th>\n",
              "      <td>37.650002</td>\n",
              "      <td>37.980000</td>\n",
              "      <td>37.299999</td>\n",
              "      <td>37.610001</td>\n",
              "      <td>27.902052</td>\n",
              "      <td>7.308670e+07</td>\n",
              "    </tr>\n",
              "    <tr>\n",
              "      <th>max</th>\n",
              "      <td>289.750000</td>\n",
              "      <td>292.899994</td>\n",
              "      <td>289.299988</td>\n",
              "      <td>292.850006</td>\n",
              "      <td>292.850006</td>\n",
              "      <td>1.031789e+09</td>\n",
              "    </tr>\n",
              "  </tbody>\n",
              "</table>\n",
              "</div>"
            ],
            "text/plain": [
              "              Open         High  ...    Adj Close        Volume\n",
              "count  8929.000000  8929.000000  ...  8929.000000  8.929000e+03\n",
              "mean     36.696204    37.086905  ...    31.725479  5.924097e+07\n",
              "std      48.535537    49.003019  ...    48.770407  3.856559e+07\n",
              "min       0.088542     0.092014  ...     0.057208  2.304000e+06\n",
              "25%       3.906250     3.953125  ...     2.477817  3.526450e+07\n",
              "50%      26.680000    26.950001  ...    18.773018  5.248800e+07\n",
              "75%      37.650002    37.980000  ...    27.902052  7.308670e+07\n",
              "max     289.750000   292.899994  ...   292.850006  1.031789e+09\n",
              "\n",
              "[8 rows x 6 columns]"
            ]
          },
          "metadata": {},
          "execution_count": 23
        }
      ]
    },
    {
      "cell_type": "code",
      "source": [
        "df.drop(columns='Volume').describe().drop('count').plot(kind='bar');"
      ],
      "metadata": {
        "colab": {
          "base_uri": "https://localhost:8080/",
          "height": 284
        },
        "id": "NmV2jpXzuo1_",
        "outputId": "f220eaf0-4d98-41b7-ceb7-84fe98d40588"
      },
      "execution_count": 26,
      "outputs": [
        {
          "output_type": "display_data",
          "data": {
            "image/png": "[encoded data removed]",
            "text/plain": [
              "<Figure size 432x288 with 1 Axes>"
            ]
          },
          "metadata": {
            "needs_background": "light"
          }
        }
      ]
    },
    {
      "cell_type": "code",
      "metadata": {
        "colab": {
          "base_uri": "https://localhost:8080/",
          "height": 283
        },
        "id": "1mWjXp2XN9RB",
        "outputId": "1f3db806-99a2-4078-cc49-4731912c9f16"
      },
      "source": [
        "df['Adj Close'].plot()"
      ],
      "execution_count": null,
      "outputs": [
        {
          "output_type": "execute_result",
          "data": {
            "text/plain": [
              "<matplotlib.axes._subplots.AxesSubplot at 0x7f2263d97410>"
            ]
          },
          "metadata": {},
          "execution_count": 7
        },
        {
          "output_type": "display_data",
          "data": {
            "image/png": "[encoded data removed]",
            "text/plain": [
              "<Figure size 432x288 with 1 Axes>"
            ]
          },
          "metadata": {
            "needs_background": "light"
          }
        }
      ]
    },
    {
      "cell_type": "markdown",
      "metadata": {
        "id": "jySisoNPOfOK"
      },
      "source": [
        "#Scaling:"
      ]
    },
    {
      "cell_type": "code",
      "metadata": {
        "id": "_wJYP29YOSZP"
      },
      "source": [
        "from sklearn.preprocessing import MinMaxScaler"
      ],
      "execution_count": null,
      "outputs": []
    },
    {
      "cell_type": "code",
      "metadata": {
        "id": "IJ4P1SJpOqZy"
      },
      "source": [
        "sc=MinMaxScaler()"
      ],
      "execution_count": null,
      "outputs": []
    },
    {
      "cell_type": "code",
      "metadata": {
        "id": "wQA6j2CaOs_7"
      },
      "source": [
        "x=sc.fit_transform(df.drop(columns=['Date','Close','Adj Close']))"
      ],
      "execution_count": null,
      "outputs": []
    },
    {
      "cell_type": "code",
      "metadata": {
        "colab": {
          "base_uri": "https://localhost:8080/"
        },
        "id": "8T_CYn7DPA7_",
        "outputId": "9b3a2dd1-b2cc-4cd4-d710-7b12a907f125"
      },
      "source": [
        "x.shape"
      ],
      "execution_count": null,
      "outputs": [
        {
          "output_type": "execute_result",
          "data": {
            "text/plain": [
              "(8929, 4)"
            ]
          },
          "metadata": {},
          "execution_count": 7
        }
      ]
    },
    {
      "cell_type": "code",
      "metadata": {
        "id": "WDWgOUycQLJj"
      },
      "source": [
        "y=df['Adj Close']"
      ],
      "execution_count": null,
      "outputs": []
    },
    {
      "cell_type": "code",
      "metadata": {
        "id": "jchozuqnQZNi"
      },
      "source": [
        "from sklearn.model_selection import TimeSeriesSplit"
      ],
      "execution_count": null,
      "outputs": []
    },
    {
      "cell_type": "code",
      "metadata": {
        "id": "wosKrWbTV7NH"
      },
      "source": [
        "t_split=TimeSeriesSplit(n_splits=10)"
      ],
      "execution_count": null,
      "outputs": []
    },
    {
      "cell_type": "code",
      "metadata": {
        "id": "3ElSfuSjrBhv"
      },
      "source": [
        "for train_index , test_index in t_split.split(x):\n",
        "  # print(\"TRAIN:\", train_index, \"TEST:\", test_index)\n",
        "  x_train, x_test = x[train_index], x[test_index]\n",
        "  y_train, y_test = y[train_index], y[test_index]"
      ],
      "execution_count": null,
      "outputs": []
    },
    {
      "cell_type": "code",
      "metadata": {
        "colab": {
          "base_uri": "https://localhost:8080/"
        },
        "id": "TRQxWsEKrfXv",
        "outputId": "269fdbdb-1e42-4c09-a354-5acd486524ee"
      },
      "source": [
        "print(x_train.shape, y_train.shape)"
      ],
      "execution_count": null,
      "outputs": [
        {
          "output_type": "stream",
          "name": "stdout",
          "text": [
            "(8118, 4) (8118,)\n"
          ]
        }
      ]
    },
    {
      "cell_type": "code",
      "metadata": {
        "colab": {
          "base_uri": "https://localhost:8080/"
        },
        "id": "C1-IynOQrssw",
        "outputId": "24855f58-822d-4567-aec9-e4376c6fa170"
      },
      "source": [
        "print(x_test.shape, y_test.shape)"
      ],
      "execution_count": null,
      "outputs": [
        {
          "output_type": "stream",
          "name": "stdout",
          "text": [
            "(811, 4) (811,)\n"
          ]
        }
      ]
    },
    {
      "cell_type": "code",
      "metadata": {
        "colab": {
          "base_uri": "https://localhost:8080/",
          "height": 279
        },
        "id": "25nwAjUGF5Dr",
        "outputId": "d796f6a6-b41f-4198-86d2-7dd3c5c43bcb"
      },
      "source": [
        "plt.plot(y_train,label='Train y')\n",
        "plt.plot(y_test, label='Test y')\n",
        "plt.xlabel('Time')\n",
        "plt.ylabel('y')\n",
        "plt.legend(loc='upper left')\n",
        "plt.show();"
      ],
      "execution_count": null,
      "outputs": [
        {
          "output_type": "display_data",
          "data": {
            "image/png": "[encoded data removed]",
            "text/plain": [
              "<Figure size 432x288 with 1 Axes>"
            ]
          },
          "metadata": {
            "needs_background": "light"
          }
        }
      ]
    },
    {
      "cell_type": "code",
      "metadata": {
        "colab": {
          "base_uri": "https://localhost:8080/"
        },
        "id": "kUvMmTDu8sD2",
        "outputId": "3195191c-f4b0-4cab-b5c2-4a8ebb776891"
      },
      "source": [
        "((811)/8929)*100 # 10% of series for test"
      ],
      "execution_count": null,
      "outputs": [
        {
          "output_type": "execute_result",
          "data": {
            "text/plain": [
              "9.082764027326688"
            ]
          },
          "metadata": {},
          "execution_count": 45
        }
      ]
    },
    {
      "cell_type": "markdown",
      "metadata": {
        "id": "3UdDP0irLJ5G"
      },
      "source": [
        "##Reshape Data:"
      ]
    },
    {
      "cell_type": "code",
      "metadata": {
        "id": "pu7yJDUYyaCo"
      },
      "source": [
        "x_train=np.array(x_train)\n",
        "x_test=np.array(x_test)"
      ],
      "execution_count": null,
      "outputs": []
    },
    {
      "cell_type": "code",
      "metadata": {
        "id": "T95wPT0y_Ke3"
      },
      "source": [
        "x_train=x_train.reshape(x_train.shape[0],1,x_train.shape[1])\n",
        "x_test=x_test.reshape(x_test.shape[0],1,x_test.shape[1])"
      ],
      "execution_count": null,
      "outputs": []
    },
    {
      "cell_type": "markdown",
      "metadata": {
        "id": "jBZBcnMdLT7P"
      },
      "source": [
        "#LSTM Model"
      ]
    },
    {
      "cell_type": "code",
      "metadata": {
        "id": "kziEh18Y_iIl"
      },
      "source": [
        "from keras.models import  Sequential\n",
        "from keras.layers import  Dense, LSTM"
      ],
      "execution_count": null,
      "outputs": []
    },
    {
      "cell_type": "code",
      "metadata": {
        "colab": {
          "base_uri": "https://localhost:8080/"
        },
        "id": "ZULs1iUqAv5n",
        "outputId": "beb0d6b9-d7e8-47a2-d248-5d383f609866"
      },
      "source": [
        "x_train.shape"
      ],
      "execution_count": null,
      "outputs": [
        {
          "output_type": "execute_result",
          "data": {
            "text/plain": [
              "(8118, 1, 4)"
            ]
          },
          "metadata": {},
          "execution_count": 52
        }
      ]
    },
    {
      "cell_type": "code",
      "metadata": {
        "id": "y8fyrVvCAblC"
      },
      "source": [
        "Model=Sequential()\n",
        "Model.add(LSTM(32,input_shape=(1,x_train.shape[2]),activation='relu',return_sequences=False))\n",
        "Model.add(Dense(1,activation='linear'))"
      ],
      "execution_count": null,
      "outputs": []
    },
    {
      "cell_type": "code",
      "metadata": {
        "colab": {
          "base_uri": "https://localhost:8080/"
        },
        "id": "pIkhVsYEBEQf",
        "outputId": "bdbc4c53-f0e3-4479-e76a-bbf8ff23e484"
      },
      "source": [
        "Model.summary()"
      ],
      "execution_count": null,
      "outputs": [
        {
          "output_type": "stream",
          "name": "stdout",
          "text": [
            "Model: \"sequential_4\"\n",
            "_________________________________________________________________\n",
            " Layer (type)                Output Shape              Param #   \n",
            "=================================================================\n",
            " lstm_4 (LSTM)               (None, 32)                4736      \n",
            "                                                                 \n",
            " dense_4 (Dense)             (None, 1)                 33        \n",
            "                                                                 \n",
            "=================================================================\n",
            "Total params: 4,769\n",
            "Trainable params: 4,769\n",
            "Non-trainable params: 0\n",
            "_________________________________________________________________\n"
          ]
        }
      ]
    },
    {
      "cell_type": "code",
      "metadata": {
        "id": "NcN4VzFzBHLW"
      },
      "source": [
        "Model.compile(optimizer='adam',loss='mean_absolute_error')"
      ],
      "execution_count": null,
      "outputs": []
    },
    {
      "cell_type": "code",
      "metadata": {
        "colab": {
          "base_uri": "https://localhost:8080/"
        },
        "id": "jD356gn0BVgD",
        "outputId": "b101b652-6720-4a48-e8c6-86a8173bf344"
      },
      "source": [
        "hist=Model.fit(x_train,y_train,epochs=100, batch_size=8,shuffle=False)"
      ],
      "execution_count": null,
      "outputs": [
        {
          "output_type": "stream",
          "name": "stdout",
          "text": [
            "Epoch 1/100\n",
            "1015/1015 [==============================] - 3s 1ms/step - loss: 4.0018\n",
            "Epoch 2/100\n",
            "1015/1015 [==============================] - 2s 2ms/step - loss: 7.2123\n",
            "Epoch 3/100\n",
            "1015/1015 [==============================] - 2s 2ms/step - loss: 5.4749\n",
            "Epoch 4/100\n",
            "1015/1015 [==============================] - 2s 1ms/step - loss: 3.2541\n",
            "Epoch 5/100\n",
            "1015/1015 [==============================] - 2s 2ms/step - loss: 1.3335\n",
            "Epoch 6/100\n",
            "1015/1015 [==============================] - 2s 2ms/step - loss: 0.7710\n",
            "Epoch 7/100\n",
            "1015/1015 [==============================] - 1s 1ms/step - loss: 0.6501\n",
            "Epoch 8/100\n",
            "1015/1015 [==============================] - 1s 1ms/step - loss: 0.6003\n",
            "Epoch 9/100\n",
            "1015/1015 [==============================] - 1s 1ms/step - loss: 0.5829\n",
            "Epoch 10/100\n",
            "1015/1015 [==============================] - 2s 1ms/step - loss: 0.5788\n",
            "Epoch 11/100\n",
            "1015/1015 [==============================] - 1s 1ms/step - loss: 0.5798\n",
            "Epoch 12/100\n",
            "1015/1015 [==============================] - 1s 1ms/step - loss: 0.5796\n",
            "Epoch 13/100\n",
            "1015/1015 [==============================] - 2s 2ms/step - loss: 0.5783\n",
            "Epoch 14/100\n",
            "1015/1015 [==============================] - 2s 1ms/step - loss: 0.5757\n",
            "Epoch 15/100\n",
            "1015/1015 [==============================] - 2s 1ms/step - loss: 0.5781\n",
            "Epoch 16/100\n",
            "1015/1015 [==============================] - 2s 2ms/step - loss: 0.5771\n",
            "Epoch 17/100\n",
            "1015/1015 [==============================] - 2s 2ms/step - loss: 0.5794\n",
            "Epoch 18/100\n",
            "1015/1015 [==============================] - 2s 2ms/step - loss: 0.5771\n",
            "Epoch 19/100\n",
            "1015/1015 [==============================] - 2s 2ms/step - loss: 0.5754\n",
            "Epoch 20/100\n",
            "1015/1015 [==============================] - 2s 2ms/step - loss: 0.5775\n",
            "Epoch 21/100\n",
            "1015/1015 [==============================] - 2s 2ms/step - loss: 0.5791\n",
            "Epoch 22/100\n",
            "1015/1015 [==============================] - 2s 2ms/step - loss: 0.5806\n",
            "Epoch 23/100\n",
            "1015/1015 [==============================] - 2s 2ms/step - loss: 0.5807\n",
            "Epoch 24/100\n",
            "1015/1015 [==============================] - 2s 1ms/step - loss: 0.5787\n",
            "Epoch 25/100\n",
            "1015/1015 [==============================] - 2s 2ms/step - loss: 0.5806\n",
            "Epoch 26/100\n",
            "1015/1015 [==============================] - 2s 2ms/step - loss: 0.5790\n",
            "Epoch 27/100\n",
            "1015/1015 [==============================] - 2s 1ms/step - loss: 0.5791\n",
            "Epoch 28/100\n",
            "1015/1015 [==============================] - 2s 1ms/step - loss: 0.5799\n",
            "Epoch 29/100\n",
            "1015/1015 [==============================] - 2s 1ms/step - loss: 0.5789\n",
            "Epoch 30/100\n",
            "1015/1015 [==============================] - 2s 2ms/step - loss: 0.5810\n",
            "Epoch 31/100\n",
            "1015/1015 [==============================] - 2s 1ms/step - loss: 0.5797\n",
            "Epoch 32/100\n",
            "1015/1015 [==============================] - 2s 1ms/step - loss: 0.5812\n",
            "Epoch 33/100\n",
            "1015/1015 [==============================] - 2s 2ms/step - loss: 0.5822\n",
            "Epoch 34/100\n",
            "1015/1015 [==============================] - 2s 2ms/step - loss: 0.5844\n",
            "Epoch 35/100\n",
            "1015/1015 [==============================] - 2s 1ms/step - loss: 0.5858\n",
            "Epoch 36/100\n",
            "1015/1015 [==============================] - 2s 1ms/step - loss: 0.5825\n",
            "Epoch 37/100\n",
            "1015/1015 [==============================] - 2s 1ms/step - loss: 0.5865\n",
            "Epoch 38/100\n",
            "1015/1015 [==============================] - 2s 1ms/step - loss: 0.5837\n",
            "Epoch 39/100\n",
            "1015/1015 [==============================] - 2s 2ms/step - loss: 0.5841\n",
            "Epoch 40/100\n",
            "1015/1015 [==============================] - 2s 1ms/step - loss: 0.5848\n",
            "Epoch 41/100\n",
            "1015/1015 [==============================] - 2s 2ms/step - loss: 0.5829\n",
            "Epoch 42/100\n",
            "1015/1015 [==============================] - 2s 2ms/step - loss: 0.5842\n",
            "Epoch 43/100\n",
            "1015/1015 [==============================] - 2s 2ms/step - loss: 0.5862\n",
            "Epoch 44/100\n",
            "1015/1015 [==============================] - 2s 2ms/step - loss: 0.5844\n",
            "Epoch 45/100\n",
            "1015/1015 [==============================] - 2s 2ms/step - loss: 0.5853\n",
            "Epoch 46/100\n",
            "1015/1015 [==============================] - 2s 1ms/step - loss: 0.5854\n",
            "Epoch 47/100\n",
            "1015/1015 [==============================] - 2s 1ms/step - loss: 0.5848\n",
            "Epoch 48/100\n",
            "1015/1015 [==============================] - 2s 2ms/step - loss: 0.5894\n",
            "Epoch 49/100\n",
            "1015/1015 [==============================] - 2s 1ms/step - loss: 0.5885\n",
            "Epoch 50/100\n",
            "1015/1015 [==============================] - 1s 1ms/step - loss: 0.5891\n",
            "Epoch 51/100\n",
            "1015/1015 [==============================] - 2s 2ms/step - loss: 0.5883\n",
            "Epoch 52/100\n",
            "1015/1015 [==============================] - 2s 2ms/step - loss: 0.5911\n",
            "Epoch 53/100\n",
            "1015/1015 [==============================] - 2s 1ms/step - loss: 0.5908\n",
            "Epoch 54/100\n",
            "1015/1015 [==============================] - 1s 1ms/step - loss: 0.5915\n",
            "Epoch 55/100\n",
            "1015/1015 [==============================] - 2s 2ms/step - loss: 0.5914\n",
            "Epoch 56/100\n",
            "1015/1015 [==============================] - 2s 1ms/step - loss: 0.5916\n",
            "Epoch 57/100\n",
            "1015/1015 [==============================] - 1s 1ms/step - loss: 0.5909\n",
            "Epoch 58/100\n",
            "1015/1015 [==============================] - 2s 2ms/step - loss: 0.5894\n",
            "Epoch 59/100\n",
            "1015/1015 [==============================] - 2s 2ms/step - loss: 0.5896\n",
            "Epoch 60/100\n",
            "1015/1015 [==============================] - 2s 1ms/step - loss: 0.5913\n",
            "Epoch 61/100\n",
            "1015/1015 [==============================] - 1s 1ms/step - loss: 0.5895\n",
            "Epoch 62/100\n",
            "1015/1015 [==============================] - 2s 2ms/step - loss: 0.5919\n",
            "Epoch 63/100\n",
            "1015/1015 [==============================] - 2s 2ms/step - loss: 0.5928\n",
            "Epoch 64/100\n",
            "1015/1015 [==============================] - 1s 1ms/step - loss: 0.5905\n",
            "Epoch 65/100\n",
            "1015/1015 [==============================] - 2s 2ms/step - loss: 0.5957\n",
            "Epoch 66/100\n",
            "1015/1015 [==============================] - 1s 1ms/step - loss: 0.5955\n",
            "Epoch 67/100\n",
            "1015/1015 [==============================] - 2s 2ms/step - loss: 0.5950\n",
            "Epoch 68/100\n",
            "1015/1015 [==============================] - 2s 2ms/step - loss: 0.5946\n",
            "Epoch 69/100\n",
            "1015/1015 [==============================] - 2s 2ms/step - loss: 0.5970\n",
            "Epoch 70/100\n",
            "1015/1015 [==============================] - 2s 2ms/step - loss: 0.5952\n",
            "Epoch 71/100\n",
            "1015/1015 [==============================] - 2s 2ms/step - loss: 0.5972\n",
            "Epoch 72/100\n",
            "1015/1015 [==============================] - 2s 2ms/step - loss: 0.5946\n",
            "Epoch 73/100\n",
            "1015/1015 [==============================] - 2s 2ms/step - loss: 0.5957\n",
            "Epoch 74/100\n",
            "1015/1015 [==============================] - 2s 2ms/step - loss: 0.5980\n",
            "Epoch 75/100\n",
            "1015/1015 [==============================] - 1s 1ms/step - loss: 0.5976\n",
            "Epoch 76/100\n",
            "1015/1015 [==============================] - 1s 1ms/step - loss: 0.5973\n",
            "Epoch 77/100\n",
            "1015/1015 [==============================] - 2s 2ms/step - loss: 0.5996\n",
            "Epoch 78/100\n",
            "1015/1015 [==============================] - 2s 2ms/step - loss: 0.5996\n",
            "Epoch 79/100\n",
            "1015/1015 [==============================] - 2s 2ms/step - loss: 0.6000\n",
            "Epoch 80/100\n",
            "1015/1015 [==============================] - 2s 2ms/step - loss: 0.6021\n",
            "Epoch 81/100\n",
            "1015/1015 [==============================] - 2s 2ms/step - loss: 0.6019\n",
            "Epoch 82/100\n",
            "1015/1015 [==============================] - 2s 2ms/step - loss: 0.6035\n",
            "Epoch 83/100\n",
            "1015/1015 [==============================] - 2s 2ms/step - loss: 0.6001\n",
            "Epoch 84/100\n",
            "1015/1015 [==============================] - 2s 1ms/step - loss: 0.6016\n",
            "Epoch 85/100\n",
            "1015/1015 [==============================] - 2s 1ms/step - loss: 0.6019\n",
            "Epoch 86/100\n",
            "1015/1015 [==============================] - 2s 1ms/step - loss: 0.6016\n",
            "Epoch 87/100\n",
            "1015/1015 [==============================] - 2s 2ms/step - loss: 0.6020\n",
            "Epoch 88/100\n",
            "1015/1015 [==============================] - 2s 2ms/step - loss: 0.6046\n",
            "Epoch 89/100\n",
            "1015/1015 [==============================] - 2s 2ms/step - loss: 0.6069\n",
            "Epoch 90/100\n",
            "1015/1015 [==============================] - 2s 2ms/step - loss: 0.6035\n",
            "Epoch 91/100\n",
            "1015/1015 [==============================] - 2s 2ms/step - loss: 0.6027\n",
            "Epoch 92/100\n",
            "1015/1015 [==============================] - 2s 2ms/step - loss: 0.6028\n",
            "Epoch 93/100\n",
            "1015/1015 [==============================] - 2s 2ms/step - loss: 0.6071\n",
            "Epoch 94/100\n",
            "1015/1015 [==============================] - 2s 2ms/step - loss: 0.6049\n",
            "Epoch 95/100\n",
            "1015/1015 [==============================] - 2s 2ms/step - loss: 0.6045\n",
            "Epoch 96/100\n",
            "1015/1015 [==============================] - 2s 2ms/step - loss: 0.6060\n",
            "Epoch 97/100\n",
            "1015/1015 [==============================] - 2s 2ms/step - loss: 0.6055\n",
            "Epoch 98/100\n",
            "1015/1015 [==============================] - 2s 2ms/step - loss: 0.6048\n",
            "Epoch 99/100\n",
            "1015/1015 [==============================] - 2s 1ms/step - loss: 0.6053\n",
            "Epoch 100/100\n",
            "1015/1015 [==============================] - 2s 1ms/step - loss: 0.6058\n"
          ]
        }
      ]
    },
    {
      "cell_type": "markdown",
      "metadata": {
        "id": "PBCfL4P0LbsA"
      },
      "source": [
        "#Visualization of results:"
      ]
    },
    {
      "cell_type": "code",
      "metadata": {
        "id": "581RVKFQB79C"
      },
      "source": [
        "y_pred=Model.predict(x_test)"
      ],
      "execution_count": null,
      "outputs": []
    },
    {
      "cell_type": "code",
      "metadata": {
        "colab": {
          "base_uri": "https://localhost:8080/"
        },
        "id": "KVJf9zQjFDEs",
        "outputId": "64a0ce45-30af-466b-9f32-8d092a502147"
      },
      "source": [
        "len(y_test)"
      ],
      "execution_count": null,
      "outputs": [
        {
          "output_type": "execute_result",
          "data": {
            "text/plain": [
              "811"
            ]
          },
          "metadata": {},
          "execution_count": 91
        }
      ]
    },
    {
      "cell_type": "code",
      "metadata": {
        "id": "SllGl1znE8ZU"
      },
      "source": [
        "Time=[]\n",
        "for i in range(len(y_test)):\n",
        "  Time.append(i)"
      ],
      "execution_count": null,
      "outputs": []
    },
    {
      "cell_type": "code",
      "metadata": {
        "colab": {
          "base_uri": "https://localhost:8080/",
          "height": 280
        },
        "id": "CY3WdNHvCim8",
        "outputId": "f1905b51-e99c-40f7-fb2f-5a0ac2dac9f6"
      },
      "source": [
        "plt.plot(Time,y_test,label='True y')\n",
        "plt.plot(y_pred, label='Pred y')\n",
        "plt.xlabel('Time')\n",
        "plt.ylabel('y')\n",
        "plt.legend(loc='lower right')\n",
        "plt.show();"
      ],
      "execution_count": null,
      "outputs": [
        {
          "output_type": "display_data",
          "data": {
            "image/png": "[encoded data removed]",
            "text/plain": [
              "<Figure size 432x288 with 1 Axes>"
            ]
          },
          "metadata": {
            "needs_background": "light"
          }
        }
      ]
    },
    {
      "cell_type": "code",
      "metadata": {
        "id": "7Nfj3N7eGYjP"
      },
      "source": [
        "Time=[]\n",
        "for i in range(len(y_train),len(y_train)+len(y_test)):\n",
        "  Time.append(i)"
      ],
      "execution_count": null,
      "outputs": []
    },
    {
      "cell_type": "code",
      "metadata": {
        "colab": {
          "base_uri": "https://localhost:8080/",
          "height": 714
        },
        "id": "fME6C8r6DHnO",
        "outputId": "6880ddce-4c28-4360-9ee6-6d660b912c4e"
      },
      "source": [
        "plt.figure(figsize=(12,12))\n",
        "plt.plot(y_train,label='Train y')\n",
        "plt.plot(Time,y_test, label='Test y')\n",
        "plt.plot(Time,y_pred, label='pred y')\n",
        "plt.xlabel('Time')\n",
        "plt.ylabel('y')\n",
        "plt.legend(loc='upper left')\n",
        "plt.show();"
      ],
      "execution_count": null,
      "outputs": [
        {
          "output_type": "display_data",
          "data": {
            "image/png": "[encoded data removed]",
            "text/plain": [
              "<Figure size 864x864 with 1 Axes>"
            ]
          },
          "metadata": {
            "needs_background": "light"
          }
        }
      ]
    },
    {
      "cell_type": "code",
      "metadata": {
        "id": "-oq858ZkGnHP"
      },
      "source": [
        ""
      ],
      "execution_count": null,
      "outputs": []
    }
  ]
}